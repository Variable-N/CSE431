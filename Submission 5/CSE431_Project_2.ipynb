{
  "cells": [
    {
      "cell_type": "code",
      "execution_count": null,
      "metadata": {
        "id": "iBl3aaAcl-jQ"
      },
      "outputs": [],
      "source": [
        "import pandas as pd\n",
        "from sklearn.feature_extraction.text import TfidfVectorizer\n",
        "from sklearn.linear_model import LogisticRegression \n",
        "from sklearn.naive_bayes import ComplementNB\n",
        "from sklearn.svm import SVC\n",
        "import string\n",
        "from sklearn.model_selection import train_test_split\n",
        "from sklearn.metrics import classification_report, accuracy_score, f1_score\n",
        "import numpy as np\n",
        "import re\n",
        "from sklearn.utils import resample\n",
        "from sklearn.ensemble import RandomForestClassifier \n",
        "from sklearn.tree import DecisionTreeClassifier"
      ]
    },
    {
      "cell_type": "code",
      "execution_count": null,
      "metadata": {
        "colab": {
          "base_uri": "https://localhost:8080/",
          "height": 206
        },
        "id": "c4mwUkBJm1fi",
        "outputId": "88e1a3a2-e1ee-41d3-834e-c215e8e6688e"
      },
      "outputs": [
        {
          "output_type": "execute_result",
          "data": {
            "text/plain": [
              "   Unnamed: 0                                           Comments  Label\n",
              "0           0  আমি মনে করি যখন মেয়েরা উদ্দেশ্য অনুসারে বোবা ...    1.0\n",
              "1           1  আমি যখন কোনও গুরুত্বপূর্ণ প্রশ্ন জিজ্ঞাসা করি ...    1.0\n",
              "2           2  বাহ ... আমি দেখতে দেখতে পাচ্ছি সত্যিই দোষী দোষ...    1.0\n",
              "3           3                   হাহ, মজার বিষয়।#আনোয়েড #গ্রুআপ    1.0\n",
              "4           4         থান্ডার আমাকে 830 এ জেগে উঠলে এটি ভালবাসুন    1.0"
            ],
            "text/html": [
              "\n",
              "  <div id=\"df-ce4d2a1d-c668-443e-b545-aa0930083a3f\">\n",
              "    <div class=\"colab-df-container\">\n",
              "      <div>\n",
              "<style scoped>\n",
              "    .dataframe tbody tr th:only-of-type {\n",
              "        vertical-align: middle;\n",
              "    }\n",
              "\n",
              "    .dataframe tbody tr th {\n",
              "        vertical-align: top;\n",
              "    }\n",
              "\n",
              "    .dataframe thead th {\n",
              "        text-align: right;\n",
              "    }\n",
              "</style>\n",
              "<table border=\"1\" class=\"dataframe\">\n",
              "  <thead>\n",
              "    <tr style=\"text-align: right;\">\n",
              "      <th></th>\n",
              "      <th>Unnamed: 0</th>\n",
              "      <th>Comments</th>\n",
              "      <th>Label</th>\n",
              "    </tr>\n",
              "  </thead>\n",
              "  <tbody>\n",
              "    <tr>\n",
              "      <th>0</th>\n",
              "      <td>0</td>\n",
              "      <td>আমি মনে করি যখন মেয়েরা উদ্দেশ্য অনুসারে বোবা ...</td>\n",
              "      <td>1.0</td>\n",
              "    </tr>\n",
              "    <tr>\n",
              "      <th>1</th>\n",
              "      <td>1</td>\n",
              "      <td>আমি যখন কোনও গুরুত্বপূর্ণ প্রশ্ন জিজ্ঞাসা করি ...</td>\n",
              "      <td>1.0</td>\n",
              "    </tr>\n",
              "    <tr>\n",
              "      <th>2</th>\n",
              "      <td>2</td>\n",
              "      <td>বাহ ... আমি দেখতে দেখতে পাচ্ছি সত্যিই দোষী দোষ...</td>\n",
              "      <td>1.0</td>\n",
              "    </tr>\n",
              "    <tr>\n",
              "      <th>3</th>\n",
              "      <td>3</td>\n",
              "      <td>হাহ, মজার বিষয়।#আনোয়েড #গ্রুআপ</td>\n",
              "      <td>1.0</td>\n",
              "    </tr>\n",
              "    <tr>\n",
              "      <th>4</th>\n",
              "      <td>4</td>\n",
              "      <td>থান্ডার আমাকে 830 এ জেগে উঠলে এটি ভালবাসুন</td>\n",
              "      <td>1.0</td>\n",
              "    </tr>\n",
              "  </tbody>\n",
              "</table>\n",
              "</div>\n",
              "      <button class=\"colab-df-convert\" onclick=\"convertToInteractive('df-ce4d2a1d-c668-443e-b545-aa0930083a3f')\"\n",
              "              title=\"Convert this dataframe to an interactive table.\"\n",
              "              style=\"display:none;\">\n",
              "        \n",
              "  <svg xmlns=\"http://www.w3.org/2000/svg\" height=\"24px\"viewBox=\"0 0 24 24\"\n",
              "       width=\"24px\">\n",
              "    <path d=\"M0 0h24v24H0V0z\" fill=\"none\"/>\n",
              "    <path d=\"M18.56 5.44l.94 2.06.94-2.06 2.06-.94-2.06-.94-.94-2.06-.94 2.06-2.06.94zm-11 1L8.5 8.5l.94-2.06 2.06-.94-2.06-.94L8.5 2.5l-.94 2.06-2.06.94zm10 10l.94 2.06.94-2.06 2.06-.94-2.06-.94-.94-2.06-.94 2.06-2.06.94z\"/><path d=\"M17.41 7.96l-1.37-1.37c-.4-.4-.92-.59-1.43-.59-.52 0-1.04.2-1.43.59L10.3 9.45l-7.72 7.72c-.78.78-.78 2.05 0 2.83L4 21.41c.39.39.9.59 1.41.59.51 0 1.02-.2 1.41-.59l7.78-7.78 2.81-2.81c.8-.78.8-2.07 0-2.86zM5.41 20L4 18.59l7.72-7.72 1.47 1.35L5.41 20z\"/>\n",
              "  </svg>\n",
              "      </button>\n",
              "      \n",
              "  <style>\n",
              "    .colab-df-container {\n",
              "      display:flex;\n",
              "      flex-wrap:wrap;\n",
              "      gap: 12px;\n",
              "    }\n",
              "\n",
              "    .colab-df-convert {\n",
              "      background-color: #E8F0FE;\n",
              "      border: none;\n",
              "      border-radius: 50%;\n",
              "      cursor: pointer;\n",
              "      display: none;\n",
              "      fill: #1967D2;\n",
              "      height: 32px;\n",
              "      padding: 0 0 0 0;\n",
              "      width: 32px;\n",
              "    }\n",
              "\n",
              "    .colab-df-convert:hover {\n",
              "      background-color: #E2EBFA;\n",
              "      box-shadow: 0px 1px 2px rgba(60, 64, 67, 0.3), 0px 1px 3px 1px rgba(60, 64, 67, 0.15);\n",
              "      fill: #174EA6;\n",
              "    }\n",
              "\n",
              "    [theme=dark] .colab-df-convert {\n",
              "      background-color: #3B4455;\n",
              "      fill: #D2E3FC;\n",
              "    }\n",
              "\n",
              "    [theme=dark] .colab-df-convert:hover {\n",
              "      background-color: #434B5C;\n",
              "      box-shadow: 0px 1px 3px 1px rgba(0, 0, 0, 0.15);\n",
              "      filter: drop-shadow(0px 1px 2px rgba(0, 0, 0, 0.3));\n",
              "      fill: #FFFFFF;\n",
              "    }\n",
              "  </style>\n",
              "\n",
              "      <script>\n",
              "        const buttonEl =\n",
              "          document.querySelector('#df-ce4d2a1d-c668-443e-b545-aa0930083a3f button.colab-df-convert');\n",
              "        buttonEl.style.display =\n",
              "          google.colab.kernel.accessAllowed ? 'block' : 'none';\n",
              "\n",
              "        async function convertToInteractive(key) {\n",
              "          const element = document.querySelector('#df-ce4d2a1d-c668-443e-b545-aa0930083a3f');\n",
              "          const dataTable =\n",
              "            await google.colab.kernel.invokeFunction('convertToInteractive',\n",
              "                                                     [key], {});\n",
              "          if (!dataTable) return;\n",
              "\n",
              "          const docLinkHtml = 'Like what you see? Visit the ' +\n",
              "            '<a target=\"_blank\" href=https://colab.research.google.com/notebooks/data_table.ipynb>data table notebook</a>'\n",
              "            + ' to learn more about interactive tables.';\n",
              "          element.innerHTML = '';\n",
              "          dataTable['output_type'] = 'display_data';\n",
              "          await google.colab.output.renderOutput(dataTable, element);\n",
              "          const docLink = document.createElement('div');\n",
              "          docLink.innerHTML = docLinkHtml;\n",
              "          element.appendChild(docLink);\n",
              "        }\n",
              "      </script>\n",
              "    </div>\n",
              "  </div>\n",
              "  "
            ]
          },
          "metadata": {},
          "execution_count": 6
        }
      ],
      "source": [
        "dfe = pd.read_csv('/content/drive/MyDrive/Bracu/Fall 2022/CSE 431/SarcasDetectionEDA.csv')\n",
        "df = pd.read_csv('/content/drive/MyDrive/Bracu/Fall 2022/CSE 431/SarcasDetection.csv')\n",
        "df.head()"
      ]
    },
    {
      "cell_type": "code",
      "execution_count": null,
      "metadata": {
        "colab": {
          "base_uri": "https://localhost:8080/"
        },
        "id": "3M-QXnG6athz",
        "outputId": "dde1cea2-9616-4e08-85d6-abc8831fb75b"
      },
      "outputs": [
        {
          "output_type": "stream",
          "name": "stdout",
          "text": [
            "<class 'pandas.core.frame.DataFrame'>\n",
            "RangeIndex: 5112 entries, 0 to 5111\n",
            "Data columns (total 3 columns):\n",
            " #   Column      Non-Null Count  Dtype  \n",
            "---  ------      --------------  -----  \n",
            " 0   Unnamed: 0  5112 non-null   int64  \n",
            " 1   Comments    5112 non-null   object \n",
            " 2   Label       5112 non-null   float64\n",
            "dtypes: float64(1), int64(1), object(1)\n",
            "memory usage: 119.9+ KB\n"
          ]
        }
      ],
      "source": [
        "df.info()"
      ]
    },
    {
      "cell_type": "code",
      "execution_count": null,
      "metadata": {
        "colab": {
          "base_uri": "https://localhost:8080/",
          "height": 300
        },
        "id": "7r5sl6xAa6jX",
        "outputId": "e2a7d40b-e4dc-4c3b-8f1e-9f8bb9ec0759"
      },
      "outputs": [
        {
          "output_type": "execute_result",
          "data": {
            "text/plain": [
              "        Unnamed: 0        Label\n",
              "count  5112.000000  5112.000000\n",
              "mean   2555.500000     0.382042\n",
              "std    1475.851619     0.485934\n",
              "min       0.000000     0.000000\n",
              "25%    1277.750000     0.000000\n",
              "50%    2555.500000     0.000000\n",
              "75%    3833.250000     1.000000\n",
              "max    5111.000000     1.000000"
            ],
            "text/html": [
              "\n",
              "  <div id=\"df-017f9b2c-15af-4b88-960c-28ab35f1518e\">\n",
              "    <div class=\"colab-df-container\">\n",
              "      <div>\n",
              "<style scoped>\n",
              "    .dataframe tbody tr th:only-of-type {\n",
              "        vertical-align: middle;\n",
              "    }\n",
              "\n",
              "    .dataframe tbody tr th {\n",
              "        vertical-align: top;\n",
              "    }\n",
              "\n",
              "    .dataframe thead th {\n",
              "        text-align: right;\n",
              "    }\n",
              "</style>\n",
              "<table border=\"1\" class=\"dataframe\">\n",
              "  <thead>\n",
              "    <tr style=\"text-align: right;\">\n",
              "      <th></th>\n",
              "      <th>Unnamed: 0</th>\n",
              "      <th>Label</th>\n",
              "    </tr>\n",
              "  </thead>\n",
              "  <tbody>\n",
              "    <tr>\n",
              "      <th>count</th>\n",
              "      <td>5112.000000</td>\n",
              "      <td>5112.000000</td>\n",
              "    </tr>\n",
              "    <tr>\n",
              "      <th>mean</th>\n",
              "      <td>2555.500000</td>\n",
              "      <td>0.382042</td>\n",
              "    </tr>\n",
              "    <tr>\n",
              "      <th>std</th>\n",
              "      <td>1475.851619</td>\n",
              "      <td>0.485934</td>\n",
              "    </tr>\n",
              "    <tr>\n",
              "      <th>min</th>\n",
              "      <td>0.000000</td>\n",
              "      <td>0.000000</td>\n",
              "    </tr>\n",
              "    <tr>\n",
              "      <th>25%</th>\n",
              "      <td>1277.750000</td>\n",
              "      <td>0.000000</td>\n",
              "    </tr>\n",
              "    <tr>\n",
              "      <th>50%</th>\n",
              "      <td>2555.500000</td>\n",
              "      <td>0.000000</td>\n",
              "    </tr>\n",
              "    <tr>\n",
              "      <th>75%</th>\n",
              "      <td>3833.250000</td>\n",
              "      <td>1.000000</td>\n",
              "    </tr>\n",
              "    <tr>\n",
              "      <th>max</th>\n",
              "      <td>5111.000000</td>\n",
              "      <td>1.000000</td>\n",
              "    </tr>\n",
              "  </tbody>\n",
              "</table>\n",
              "</div>\n",
              "      <button class=\"colab-df-convert\" onclick=\"convertToInteractive('df-017f9b2c-15af-4b88-960c-28ab35f1518e')\"\n",
              "              title=\"Convert this dataframe to an interactive table.\"\n",
              "              style=\"display:none;\">\n",
              "        \n",
              "  <svg xmlns=\"http://www.w3.org/2000/svg\" height=\"24px\"viewBox=\"0 0 24 24\"\n",
              "       width=\"24px\">\n",
              "    <path d=\"M0 0h24v24H0V0z\" fill=\"none\"/>\n",
              "    <path d=\"M18.56 5.44l.94 2.06.94-2.06 2.06-.94-2.06-.94-.94-2.06-.94 2.06-2.06.94zm-11 1L8.5 8.5l.94-2.06 2.06-.94-2.06-.94L8.5 2.5l-.94 2.06-2.06.94zm10 10l.94 2.06.94-2.06 2.06-.94-2.06-.94-.94-2.06-.94 2.06-2.06.94z\"/><path d=\"M17.41 7.96l-1.37-1.37c-.4-.4-.92-.59-1.43-.59-.52 0-1.04.2-1.43.59L10.3 9.45l-7.72 7.72c-.78.78-.78 2.05 0 2.83L4 21.41c.39.39.9.59 1.41.59.51 0 1.02-.2 1.41-.59l7.78-7.78 2.81-2.81c.8-.78.8-2.07 0-2.86zM5.41 20L4 18.59l7.72-7.72 1.47 1.35L5.41 20z\"/>\n",
              "  </svg>\n",
              "      </button>\n",
              "      \n",
              "  <style>\n",
              "    .colab-df-container {\n",
              "      display:flex;\n",
              "      flex-wrap:wrap;\n",
              "      gap: 12px;\n",
              "    }\n",
              "\n",
              "    .colab-df-convert {\n",
              "      background-color: #E8F0FE;\n",
              "      border: none;\n",
              "      border-radius: 50%;\n",
              "      cursor: pointer;\n",
              "      display: none;\n",
              "      fill: #1967D2;\n",
              "      height: 32px;\n",
              "      padding: 0 0 0 0;\n",
              "      width: 32px;\n",
              "    }\n",
              "\n",
              "    .colab-df-convert:hover {\n",
              "      background-color: #E2EBFA;\n",
              "      box-shadow: 0px 1px 2px rgba(60, 64, 67, 0.3), 0px 1px 3px 1px rgba(60, 64, 67, 0.15);\n",
              "      fill: #174EA6;\n",
              "    }\n",
              "\n",
              "    [theme=dark] .colab-df-convert {\n",
              "      background-color: #3B4455;\n",
              "      fill: #D2E3FC;\n",
              "    }\n",
              "\n",
              "    [theme=dark] .colab-df-convert:hover {\n",
              "      background-color: #434B5C;\n",
              "      box-shadow: 0px 1px 3px 1px rgba(0, 0, 0, 0.15);\n",
              "      filter: drop-shadow(0px 1px 2px rgba(0, 0, 0, 0.3));\n",
              "      fill: #FFFFFF;\n",
              "    }\n",
              "  </style>\n",
              "\n",
              "      <script>\n",
              "        const buttonEl =\n",
              "          document.querySelector('#df-017f9b2c-15af-4b88-960c-28ab35f1518e button.colab-df-convert');\n",
              "        buttonEl.style.display =\n",
              "          google.colab.kernel.accessAllowed ? 'block' : 'none';\n",
              "\n",
              "        async function convertToInteractive(key) {\n",
              "          const element = document.querySelector('#df-017f9b2c-15af-4b88-960c-28ab35f1518e');\n",
              "          const dataTable =\n",
              "            await google.colab.kernel.invokeFunction('convertToInteractive',\n",
              "                                                     [key], {});\n",
              "          if (!dataTable) return;\n",
              "\n",
              "          const docLinkHtml = 'Like what you see? Visit the ' +\n",
              "            '<a target=\"_blank\" href=https://colab.research.google.com/notebooks/data_table.ipynb>data table notebook</a>'\n",
              "            + ' to learn more about interactive tables.';\n",
              "          element.innerHTML = '';\n",
              "          dataTable['output_type'] = 'display_data';\n",
              "          await google.colab.output.renderOutput(dataTable, element);\n",
              "          const docLink = document.createElement('div');\n",
              "          docLink.innerHTML = docLinkHtml;\n",
              "          element.appendChild(docLink);\n",
              "        }\n",
              "      </script>\n",
              "    </div>\n",
              "  </div>\n",
              "  "
            ]
          },
          "metadata": {},
          "execution_count": 8
        }
      ],
      "source": [
        "df.describe()"
      ]
    },
    {
      "cell_type": "markdown",
      "metadata": {
        "id": "gSbNMQ6ubd73"
      },
      "source": [
        "#PRE PROCESSING"
      ]
    },
    {
      "cell_type": "code",
      "execution_count": null,
      "metadata": {
        "id": "QvXSWZvSbZ0f"
      },
      "outputs": [],
      "source": [
        "def text_to_word_list(text):\n",
        "    text = text.split()\n",
        "    return text\n",
        "\n",
        "def replace_strings(text):\n",
        "    emoji_pattern = re.compile(\"[\"\n",
        "                           u\"\\U0001F600-\\U0001F64F\"  # emoticons\n",
        "                           u\"\\U0001F300-\\U0001F5FF\"  # symbols & pictographs\n",
        "                           u\"\\U0001F680-\\U0001F6FF\"  # transport & map symbols\n",
        "                           u\"\\U0001F1E0-\\U0001F1FF\"  # flags (iOS)\n",
        "                           u\"\\U00002702-\\U000027B0\"\n",
        "                           u\"\\U000024C2-\\U0001F251\"\n",
        "                           u\"\\u00C0-\\u017F\"          #latin\n",
        "                           u\"\\u2000-\\u206F\"          #generalPunctuations\n",
        "                               \n",
        "                           \"]+\", flags=re.UNICODE)\n",
        "    # english_pattern=re.compile('[a-zA-Z0-9]+', flags=re.I)    \n",
        "    text=emoji_pattern.sub(r'', text)\n",
        "    # text=english_pattern.sub(r'', text)\n",
        "\n",
        "    return text\n",
        "\n",
        "def remove_punctuations(my_str):\n",
        "    punctuations = '''```\u0012\u0010\u0002\b`\u0007\b£|¢|\u0007Ñ+-*/=EROero৳০১২৩৪৫৬৭৮৯012–34567•89।!()-[]{};:'\"“\\’,<>./?@#$%^&*_~‘—॥”‰🤣⚽️✌�￰৷￰'''\n",
        "    no_punct = \"\"\n",
        "    for char in my_str:\n",
        "        if char not in punctuations:\n",
        "            no_punct = no_punct + char\n",
        "        else:\n",
        "            no_punct = no_punct + \" \"\n",
        "    return no_punct\n",
        "\n",
        "def joining(text):\n",
        "    out=' '.join(text)\n",
        "    return out\n",
        "\n",
        "def preprocessing(text):\n",
        "    out=remove_punctuations(replace_strings(text))\n",
        "    return out"
      ]
    },
    {
      "cell_type": "code",
      "execution_count": null,
      "metadata": {
        "id": "dFKlbfoBcDci"
      },
      "outputs": [],
      "source": [
        "df['cleanText'] = df.Comments.apply(lambda x: preprocessing(str(x)))"
      ]
    },
    {
      "cell_type": "code",
      "execution_count": null,
      "metadata": {
        "colab": {
          "base_uri": "https://localhost:8080/",
          "height": 206
        },
        "id": "PPGk6AsgcXnZ",
        "outputId": "0b601798-a3b0-491e-e6d4-e179c6e1d2dd"
      },
      "outputs": [
        {
          "output_type": "execute_result",
          "data": {
            "text/plain": [
              "   Unnamed: 0                                           Comments  Label  \\\n",
              "0           0  আমি মনে করি যখন মেয়েরা উদ্দেশ্য অনুসারে বোবা ...    1.0   \n",
              "1           1  আমি যখন কোনও গুরুত্বপূর্ণ প্রশ্ন জিজ্ঞাসা করি ...    1.0   \n",
              "2           2  বাহ ... আমি দেখতে দেখতে পাচ্ছি সত্যিই দোষী দোষ...    1.0   \n",
              "3           3                   হাহ, মজার বিষয়।#আনোয়েড #গ্রুআপ    1.0   \n",
              "4           4         থান্ডার আমাকে 830 এ জেগে উঠলে এটি ভালবাসুন    1.0   \n",
              "\n",
              "                                           cleanText  \n",
              "0  আমি মনে করি যখন মেয়েরা উদ্দেশ্য অনুসারে বোবা ...  \n",
              "1  আমি যখন কোনও গুরুত্বপূর্ণ প্রশ্ন জিজ্ঞাসা করি ...  \n",
              "2  বাহ     আমি দেখতে দেখতে পাচ্ছি সত্যিই দোষী দোষ...  \n",
              "3                   হাহ  মজার বিষয়  আনোয়েড  গ্রুআপ  \n",
              "4         থান্ডার আমাকে     এ জেগে উঠলে এটি ভালবাসুন  "
            ],
            "text/html": [
              "\n",
              "  <div id=\"df-602e4cbc-a7e3-456e-b19a-4632a02e16a7\">\n",
              "    <div class=\"colab-df-container\">\n",
              "      <div>\n",
              "<style scoped>\n",
              "    .dataframe tbody tr th:only-of-type {\n",
              "        vertical-align: middle;\n",
              "    }\n",
              "\n",
              "    .dataframe tbody tr th {\n",
              "        vertical-align: top;\n",
              "    }\n",
              "\n",
              "    .dataframe thead th {\n",
              "        text-align: right;\n",
              "    }\n",
              "</style>\n",
              "<table border=\"1\" class=\"dataframe\">\n",
              "  <thead>\n",
              "    <tr style=\"text-align: right;\">\n",
              "      <th></th>\n",
              "      <th>Unnamed: 0</th>\n",
              "      <th>Comments</th>\n",
              "      <th>Label</th>\n",
              "      <th>cleanText</th>\n",
              "    </tr>\n",
              "  </thead>\n",
              "  <tbody>\n",
              "    <tr>\n",
              "      <th>0</th>\n",
              "      <td>0</td>\n",
              "      <td>আমি মনে করি যখন মেয়েরা উদ্দেশ্য অনুসারে বোবা ...</td>\n",
              "      <td>1.0</td>\n",
              "      <td>আমি মনে করি যখন মেয়েরা উদ্দেশ্য অনুসারে বোবা ...</td>\n",
              "    </tr>\n",
              "    <tr>\n",
              "      <th>1</th>\n",
              "      <td>1</td>\n",
              "      <td>আমি যখন কোনও গুরুত্বপূর্ণ প্রশ্ন জিজ্ঞাসা করি ...</td>\n",
              "      <td>1.0</td>\n",
              "      <td>আমি যখন কোনও গুরুত্বপূর্ণ প্রশ্ন জিজ্ঞাসা করি ...</td>\n",
              "    </tr>\n",
              "    <tr>\n",
              "      <th>2</th>\n",
              "      <td>2</td>\n",
              "      <td>বাহ ... আমি দেখতে দেখতে পাচ্ছি সত্যিই দোষী দোষ...</td>\n",
              "      <td>1.0</td>\n",
              "      <td>বাহ     আমি দেখতে দেখতে পাচ্ছি সত্যিই দোষী দোষ...</td>\n",
              "    </tr>\n",
              "    <tr>\n",
              "      <th>3</th>\n",
              "      <td>3</td>\n",
              "      <td>হাহ, মজার বিষয়।#আনোয়েড #গ্রুআপ</td>\n",
              "      <td>1.0</td>\n",
              "      <td>হাহ  মজার বিষয়  আনোয়েড  গ্রুআপ</td>\n",
              "    </tr>\n",
              "    <tr>\n",
              "      <th>4</th>\n",
              "      <td>4</td>\n",
              "      <td>থান্ডার আমাকে 830 এ জেগে উঠলে এটি ভালবাসুন</td>\n",
              "      <td>1.0</td>\n",
              "      <td>থান্ডার আমাকে     এ জেগে উঠলে এটি ভালবাসুন</td>\n",
              "    </tr>\n",
              "  </tbody>\n",
              "</table>\n",
              "</div>\n",
              "      <button class=\"colab-df-convert\" onclick=\"convertToInteractive('df-602e4cbc-a7e3-456e-b19a-4632a02e16a7')\"\n",
              "              title=\"Convert this dataframe to an interactive table.\"\n",
              "              style=\"display:none;\">\n",
              "        \n",
              "  <svg xmlns=\"http://www.w3.org/2000/svg\" height=\"24px\"viewBox=\"0 0 24 24\"\n",
              "       width=\"24px\">\n",
              "    <path d=\"M0 0h24v24H0V0z\" fill=\"none\"/>\n",
              "    <path d=\"M18.56 5.44l.94 2.06.94-2.06 2.06-.94-2.06-.94-.94-2.06-.94 2.06-2.06.94zm-11 1L8.5 8.5l.94-2.06 2.06-.94-2.06-.94L8.5 2.5l-.94 2.06-2.06.94zm10 10l.94 2.06.94-2.06 2.06-.94-2.06-.94-.94-2.06-.94 2.06-2.06.94z\"/><path d=\"M17.41 7.96l-1.37-1.37c-.4-.4-.92-.59-1.43-.59-.52 0-1.04.2-1.43.59L10.3 9.45l-7.72 7.72c-.78.78-.78 2.05 0 2.83L4 21.41c.39.39.9.59 1.41.59.51 0 1.02-.2 1.41-.59l7.78-7.78 2.81-2.81c.8-.78.8-2.07 0-2.86zM5.41 20L4 18.59l7.72-7.72 1.47 1.35L5.41 20z\"/>\n",
              "  </svg>\n",
              "      </button>\n",
              "      \n",
              "  <style>\n",
              "    .colab-df-container {\n",
              "      display:flex;\n",
              "      flex-wrap:wrap;\n",
              "      gap: 12px;\n",
              "    }\n",
              "\n",
              "    .colab-df-convert {\n",
              "      background-color: #E8F0FE;\n",
              "      border: none;\n",
              "      border-radius: 50%;\n",
              "      cursor: pointer;\n",
              "      display: none;\n",
              "      fill: #1967D2;\n",
              "      height: 32px;\n",
              "      padding: 0 0 0 0;\n",
              "      width: 32px;\n",
              "    }\n",
              "\n",
              "    .colab-df-convert:hover {\n",
              "      background-color: #E2EBFA;\n",
              "      box-shadow: 0px 1px 2px rgba(60, 64, 67, 0.3), 0px 1px 3px 1px rgba(60, 64, 67, 0.15);\n",
              "      fill: #174EA6;\n",
              "    }\n",
              "\n",
              "    [theme=dark] .colab-df-convert {\n",
              "      background-color: #3B4455;\n",
              "      fill: #D2E3FC;\n",
              "    }\n",
              "\n",
              "    [theme=dark] .colab-df-convert:hover {\n",
              "      background-color: #434B5C;\n",
              "      box-shadow: 0px 1px 3px 1px rgba(0, 0, 0, 0.15);\n",
              "      filter: drop-shadow(0px 1px 2px rgba(0, 0, 0, 0.3));\n",
              "      fill: #FFFFFF;\n",
              "    }\n",
              "  </style>\n",
              "\n",
              "      <script>\n",
              "        const buttonEl =\n",
              "          document.querySelector('#df-602e4cbc-a7e3-456e-b19a-4632a02e16a7 button.colab-df-convert');\n",
              "        buttonEl.style.display =\n",
              "          google.colab.kernel.accessAllowed ? 'block' : 'none';\n",
              "\n",
              "        async function convertToInteractive(key) {\n",
              "          const element = document.querySelector('#df-602e4cbc-a7e3-456e-b19a-4632a02e16a7');\n",
              "          const dataTable =\n",
              "            await google.colab.kernel.invokeFunction('convertToInteractive',\n",
              "                                                     [key], {});\n",
              "          if (!dataTable) return;\n",
              "\n",
              "          const docLinkHtml = 'Like what you see? Visit the ' +\n",
              "            '<a target=\"_blank\" href=https://colab.research.google.com/notebooks/data_table.ipynb>data table notebook</a>'\n",
              "            + ' to learn more about interactive tables.';\n",
              "          element.innerHTML = '';\n",
              "          dataTable['output_type'] = 'display_data';\n",
              "          await google.colab.output.renderOutput(dataTable, element);\n",
              "          const docLink = document.createElement('div');\n",
              "          docLink.innerHTML = docLinkHtml;\n",
              "          element.appendChild(docLink);\n",
              "        }\n",
              "      </script>\n",
              "    </div>\n",
              "  </div>\n",
              "  "
            ]
          },
          "metadata": {},
          "execution_count": 11
        }
      ],
      "source": [
        "df.head()"
      ]
    },
    {
      "cell_type": "markdown",
      "metadata": {
        "id": "DaB7Yh7Uke1e"
      },
      "source": [
        "#BALANCING"
      ]
    },
    {
      "cell_type": "code",
      "execution_count": null,
      "metadata": {
        "colab": {
          "base_uri": "https://localhost:8080/"
        },
        "id": "SXv1vatoiHHI",
        "outputId": "0c4ed2db-b32b-461c-c8b9-f1eb61d31ec1"
      },
      "outputs": [
        {
          "output_type": "execute_result",
          "data": {
            "text/plain": [
              "0.0    3159\n",
              "1.0    1953\n",
              "Name: Label, dtype: int64"
            ]
          },
          "metadata": {},
          "execution_count": 12
        }
      ],
      "source": [
        "df['Label'].value_counts()"
      ]
    },
    {
      "cell_type": "code",
      "execution_count": null,
      "metadata": {
        "id": "hqLHtonlkuta"
      },
      "outputs": [],
      "source": [
        "def dataset_balance(data):\n",
        "    data_positive = data[(data['Label']== 1)]\n",
        "    data_negative = data[(data['Label']==0)]\n",
        "    data_positive_upsampled = resample(data_positive, replace = True, n_samples =  data['Label'].value_counts()[0], random_state = 42)\n",
        "    balanced_dataset = pd.concat([data_positive_upsampled,data_negative]).reset_index(drop=True)\n",
        "    return balanced_dataset"
      ]
    },
    {
      "cell_type": "code",
      "execution_count": null,
      "metadata": {
        "id": "CxVVtb3IlSAY"
      },
      "outputs": [],
      "source": [
        "df_train, df_test = train_test_split(df, train_size = 0.8, shuffle = True)"
      ]
    },
    {
      "cell_type": "code",
      "execution_count": null,
      "metadata": {
        "colab": {
          "base_uri": "https://localhost:8080/"
        },
        "id": "Rv9kZIjrla6Y",
        "outputId": "4fb89589-5e88-4269-b158-f19988979673"
      },
      "outputs": [
        {
          "output_type": "execute_result",
          "data": {
            "text/plain": [
              "0.0    2507\n",
              "1.0    1582\n",
              "Name: Label, dtype: int64"
            ]
          },
          "metadata": {},
          "execution_count": 15
        }
      ],
      "source": [
        "df_train['Label'].value_counts()"
      ]
    },
    {
      "cell_type": "code",
      "execution_count": null,
      "metadata": {
        "colab": {
          "base_uri": "https://localhost:8080/"
        },
        "id": "ZHgEF5-_h4Nq",
        "outputId": "2c01f13e-6cf3-44ef-a115-71b27ef53873"
      },
      "outputs": [
        {
          "output_type": "execute_result",
          "data": {
            "text/plain": [
              "1.0    2507\n",
              "0.0    2507\n",
              "Name: Label, dtype: int64"
            ]
          },
          "metadata": {},
          "execution_count": 16
        }
      ],
      "source": [
        "df_train = dataset_balance(df_train)\n",
        "df_train['Label'].value_counts()"
      ]
    },
    {
      "cell_type": "code",
      "execution_count": null,
      "metadata": {
        "id": "coITa1c1nHgM"
      },
      "outputs": [],
      "source": [
        "\n",
        "tf_idf = TfidfVectorizer(ngram_range = (1,5))\n",
        "tf_idf.fit(df['Comments'])\n",
        "X_train = tf_idf.transform(df_train['cleanText'])\n",
        "Y_train = df_train.Label\n",
        "X_test = tf_idf.transform(df_test['cleanText'])\n",
        "Y_test = df_test.Label"
      ]
    },
    {
      "cell_type": "markdown",
      "metadata": {
        "id": "wTgRYYTv5ZTD"
      },
      "source": [
        "# TRAINING THE MACHINE LEARNING MODEL\n",
        "\n",
        "\n",
        "1.   Logistic Regression\n",
        "2.   Support Vector Machine\n",
        "3.   Naive Bayes\n",
        "4.   Random Forest\n",
        "5.   Decision Tree\n",
        "\n"
      ]
    },
    {
      "cell_type": "code",
      "execution_count": null,
      "metadata": {
        "id": "dNqOKTOe5pHg"
      },
      "outputs": [],
      "source": [
        "model_LR = LogisticRegression().fit(X_train,Y_train)"
      ]
    },
    {
      "cell_type": "code",
      "execution_count": null,
      "metadata": {
        "id": "HhyReuD2dE2p"
      },
      "outputs": [],
      "source": [
        "model_SVM = SVC(kernel='rbf', random_state = 42).fit(X_train, Y_train)"
      ]
    },
    {
      "cell_type": "code",
      "execution_count": null,
      "metadata": {
        "id": "1u8KsDmidEr6"
      },
      "outputs": [],
      "source": [
        "model_NB = ComplementNB().fit(X_train,Y_train)"
      ]
    },
    {
      "cell_type": "code",
      "execution_count": null,
      "metadata": {
        "id": "AO7e8xfRySJb"
      },
      "outputs": [],
      "source": [
        "model_RF = RandomForestClassifier(n_estimators= 250, criterion=\"entropy\").fit(X_train, Y_train)"
      ]
    },
    {
      "cell_type": "code",
      "execution_count": null,
      "metadata": {
        "id": "5Qx6h-Sk2R-d"
      },
      "outputs": [],
      "source": [
        "model_DC = DecisionTreeClassifier(criterion = 'entropy', random_state = 1).fit(X_train,Y_train)"
      ]
    },
    {
      "cell_type": "code",
      "execution_count": null,
      "metadata": {
        "colab": {
          "base_uri": "https://localhost:8080/"
        },
        "id": "LYSCTP9SdNfY",
        "outputId": "78132cfb-3d23-453f-cdf3-da2b31b4881f"
      },
      "outputs": [
        {
          "output_type": "stream",
          "name": "stdout",
          "text": [
            "LOGISTIC REGRESSION\n",
            "              precision    recall  f1-score   support\n",
            "\n",
            "         0.0       0.89      0.94      0.92       652\n",
            "         1.0       0.88      0.80      0.84       371\n",
            "\n",
            "    accuracy                           0.89      1023\n",
            "   macro avg       0.89      0.87      0.88      1023\n",
            "weighted avg       0.89      0.89      0.89      1023\n",
            "\n"
          ]
        }
      ],
      "source": [
        "LR_score = classification_report(Y_test, model_LR.predict(X_test))\n",
        "print(\"LOGISTIC REGRESSION\")\n",
        "print(LR_score)"
      ]
    },
    {
      "cell_type": "code",
      "execution_count": null,
      "metadata": {
        "colab": {
          "base_uri": "https://localhost:8080/"
        },
        "id": "wkYobqcadNat",
        "outputId": "2e231db6-d246-4715-cc25-70f0701fc26f"
      },
      "outputs": [
        {
          "output_type": "stream",
          "name": "stdout",
          "text": [
            "SUPPORT VECTOR CLASSIFICATION\n",
            "              precision    recall  f1-score   support\n",
            "\n",
            "         0.0       0.85      0.98      0.91       652\n",
            "         1.0       0.95      0.69      0.80       371\n",
            "\n",
            "    accuracy                           0.87      1023\n",
            "   macro avg       0.90      0.83      0.85      1023\n",
            "weighted avg       0.88      0.87      0.87      1023\n",
            "\n"
          ]
        }
      ],
      "source": [
        "SVC_score = classification_report(Y_test, model_SVM.predict(X_test))\n",
        "print(\"SUPPORT VECTOR CLASSIFICATION\")\n",
        "print(SVC_score)"
      ]
    },
    {
      "cell_type": "code",
      "execution_count": null,
      "metadata": {
        "colab": {
          "base_uri": "https://localhost:8080/"
        },
        "id": "oZ9MznTydNTs",
        "outputId": "336390d2-838c-42d6-9ad8-84c1460230b8"
      },
      "outputs": [
        {
          "output_type": "stream",
          "name": "stdout",
          "text": [
            "NAIVE BAYES CLASSIFICATION\n",
            "              precision    recall  f1-score   support\n",
            "\n",
            "         0.0       0.96      0.87      0.91       652\n",
            "         1.0       0.80      0.93      0.86       371\n",
            "\n",
            "    accuracy                           0.89      1023\n",
            "   macro avg       0.88      0.90      0.88      1023\n",
            "weighted avg       0.90      0.89      0.89      1023\n",
            "\n"
          ]
        }
      ],
      "source": [
        "NB_score = classification_report(Y_test, model_NB.predict(X_test))\n",
        "print(\"NAIVE BAYES CLASSIFICATION\")\n",
        "print(NB_score)"
      ]
    },
    {
      "cell_type": "code",
      "execution_count": null,
      "metadata": {
        "colab": {
          "base_uri": "https://localhost:8080/"
        },
        "id": "PPgJRWdedNLQ",
        "outputId": "9eb46c0b-65d1-4100-9f0a-d05d51d4f41d"
      },
      "outputs": [
        {
          "output_type": "stream",
          "name": "stdout",
          "text": [
            "RANDOM FOREST CLASSIFICATION\n",
            "              precision    recall  f1-score   support\n",
            "\n",
            "         0.0       0.87      0.98      0.92       652\n",
            "         1.0       0.95      0.74      0.83       371\n",
            "\n",
            "    accuracy                           0.89      1023\n",
            "   macro avg       0.91      0.86      0.88      1023\n",
            "weighted avg       0.90      0.89      0.89      1023\n",
            "\n"
          ]
        }
      ],
      "source": [
        "RF_score = classification_report(Y_test, model_RF.predict(X_test))\n",
        "print(\"RANDOM FOREST CLASSIFICATION\")\n",
        "print(RF_score)"
      ]
    },
    {
      "cell_type": "code",
      "execution_count": null,
      "metadata": {
        "colab": {
          "base_uri": "https://localhost:8080/"
        },
        "id": "Uickhz8WdeQJ",
        "outputId": "47f23a51-0e06-4c9a-b4a2-429d919fa5c9"
      },
      "outputs": [
        {
          "output_type": "stream",
          "name": "stdout",
          "text": [
            "DECISION TREE CLASSIFICATION\n",
            "              precision    recall  f1-score   support\n",
            "\n",
            "         0.0       0.87      0.87      0.87       652\n",
            "         1.0       0.77      0.78      0.77       371\n",
            "\n",
            "    accuracy                           0.83      1023\n",
            "   macro avg       0.82      0.82      0.82      1023\n",
            "weighted avg       0.83      0.83      0.83      1023\n",
            "\n"
          ]
        }
      ],
      "source": [
        "DC_score = classification_report(Y_test, model_DC.predict(X_test))\n",
        "print(\"DECISION TREE CLASSIFICATION\")\n",
        "print(DC_score)"
      ]
    },
    {
      "cell_type": "code",
      "execution_count": null,
      "metadata": {
        "id": "jHy0xiU9q4VB"
      },
      "outputs": [],
      "source": [
        "import numpy as np \n",
        "import pandas as pd \n",
        "import re\n",
        "import string\n",
        "from sklearn.model_selection import train_test_split\n",
        "import tensorflow as tf\n",
        "from keras import layers\n",
        "from keras.models import Sequential\n",
        "from keras_preprocessing.sequence import pad_sequences\n",
        "from keras.layers import LSTM, GRU\n",
        "from keras.layers import Dense, Activation, Dropout\n",
        "from keras.layers import Embedding\n",
        "from sklearn import preprocessing, decomposition, model_selection, metrics, pipeline\n",
        "from keras.layers import Flatten, Bidirectional, SpatialDropout1D\n",
        "from keras.preprocessing import sequence, text\n",
        "from keras.preprocessing.text import Tokenizer\n",
        "from keras.callbacks import EarlyStopping"
      ]
    },
    {
      "cell_type": "code",
      "execution_count": null,
      "metadata": {
        "id": "v-8TtdPGrGa_"
      },
      "outputs": [],
      "source": [
        "# %tensorflow_version 2.x\n",
        "# import tensorflow as tf\n",
        "# print(\"Tensorflow version \" + tf.__version__)\n",
        "\n",
        "# try:\n",
        "#   tpu = tf.distribute.cluster_resolver.TPUClusterResolver()  # TPU detection\n",
        "#   print('Running on TPU ', tpu.cluster_spec().as_dict()['worker'])\n",
        "# except ValueError:\n",
        "#   raise BaseException('ERROR: Not connected to a TPU runtime; please see the previous cell in this notebook for instructions!')\n",
        "\n",
        "# tf.config.experimental_connect_to_cluster(tpu)\n",
        "# tf.tpu.experimental.initialize_tpu_system(tpu)\n",
        "# tpu_strategy = tf.distribute.experimental.TPUStrategy(tpu)"
      ]
    },
    {
      "cell_type": "code",
      "execution_count": null,
      "metadata": {
        "colab": {
          "base_uri": "https://localhost:8080/"
        },
        "id": "IQQDr4PGs55h",
        "outputId": "31c9f2f2-b43f-4ed3-fb73-2cee51fe3f56"
      },
      "outputs": [
        {
          "output_type": "execute_result",
          "data": {
            "text/plain": [
              "[PhysicalDevice(name='/physical_device:GPU:0', device_type='GPU')]"
            ]
          },
          "metadata": {},
          "execution_count": 29
        }
      ],
      "source": [
        "tf.config.list_physical_devices('GPU')"
      ]
    },
    {
      "cell_type": "code",
      "execution_count": null,
      "metadata": {
        "colab": {
          "base_uri": "https://localhost:8080/",
          "height": 206
        },
        "id": "P31lKUGLsAY1",
        "outputId": "5cefb7c6-b319-4f8e-ecca-ae415c4222fa"
      },
      "outputs": [
        {
          "output_type": "execute_result",
          "data": {
            "text/plain": [
              "   Unnamed: 0                                           Comments  Label  \\\n",
              "0           0  আমি মনে করি যখন মেয়েরা উদ্দেশ্য অনুসারে বোবা ...    1.0   \n",
              "1           1  আমি যখন কোনও গুরুত্বপূর্ণ প্রশ্ন জিজ্ঞাসা করি ...    1.0   \n",
              "2           2  বাহ ... আমি দেখতে দেখতে পাচ্ছি সত্যিই দোষী দোষ...    1.0   \n",
              "3           3                   হাহ, মজার বিষয়।#আনোয়েড #গ্রুআপ    1.0   \n",
              "4           4         থান্ডার আমাকে 830 এ জেগে উঠলে এটি ভালবাসুন    1.0   \n",
              "\n",
              "                                           cleanText  \n",
              "0  আমি মনে করি যখন মেয়েরা উদ্দেশ্য অনুসারে বোবা ...  \n",
              "1  আমি যখন কোনও গুরুত্বপূর্ণ প্রশ্ন জিজ্ঞাসা করি ...  \n",
              "2  বাহ     আমি দেখতে দেখতে পাচ্ছি সত্যিই দোষী দোষ...  \n",
              "3                   হাহ  মজার বিষয়  আনোয়েড  গ্রুআপ  \n",
              "4         থান্ডার আমাকে     এ জেগে উঠলে এটি ভালবাসুন  "
            ],
            "text/html": [
              "\n",
              "  <div id=\"df-fe1ea671-c8ca-48c5-a7b3-22c4beca6db4\">\n",
              "    <div class=\"colab-df-container\">\n",
              "      <div>\n",
              "<style scoped>\n",
              "    .dataframe tbody tr th:only-of-type {\n",
              "        vertical-align: middle;\n",
              "    }\n",
              "\n",
              "    .dataframe tbody tr th {\n",
              "        vertical-align: top;\n",
              "    }\n",
              "\n",
              "    .dataframe thead th {\n",
              "        text-align: right;\n",
              "    }\n",
              "</style>\n",
              "<table border=\"1\" class=\"dataframe\">\n",
              "  <thead>\n",
              "    <tr style=\"text-align: right;\">\n",
              "      <th></th>\n",
              "      <th>Unnamed: 0</th>\n",
              "      <th>Comments</th>\n",
              "      <th>Label</th>\n",
              "      <th>cleanText</th>\n",
              "    </tr>\n",
              "  </thead>\n",
              "  <tbody>\n",
              "    <tr>\n",
              "      <th>0</th>\n",
              "      <td>0</td>\n",
              "      <td>আমি মনে করি যখন মেয়েরা উদ্দেশ্য অনুসারে বোবা ...</td>\n",
              "      <td>1.0</td>\n",
              "      <td>আমি মনে করি যখন মেয়েরা উদ্দেশ্য অনুসারে বোবা ...</td>\n",
              "    </tr>\n",
              "    <tr>\n",
              "      <th>1</th>\n",
              "      <td>1</td>\n",
              "      <td>আমি যখন কোনও গুরুত্বপূর্ণ প্রশ্ন জিজ্ঞাসা করি ...</td>\n",
              "      <td>1.0</td>\n",
              "      <td>আমি যখন কোনও গুরুত্বপূর্ণ প্রশ্ন জিজ্ঞাসা করি ...</td>\n",
              "    </tr>\n",
              "    <tr>\n",
              "      <th>2</th>\n",
              "      <td>2</td>\n",
              "      <td>বাহ ... আমি দেখতে দেখতে পাচ্ছি সত্যিই দোষী দোষ...</td>\n",
              "      <td>1.0</td>\n",
              "      <td>বাহ     আমি দেখতে দেখতে পাচ্ছি সত্যিই দোষী দোষ...</td>\n",
              "    </tr>\n",
              "    <tr>\n",
              "      <th>3</th>\n",
              "      <td>3</td>\n",
              "      <td>হাহ, মজার বিষয়।#আনোয়েড #গ্রুআপ</td>\n",
              "      <td>1.0</td>\n",
              "      <td>হাহ  মজার বিষয়  আনোয়েড  গ্রুআপ</td>\n",
              "    </tr>\n",
              "    <tr>\n",
              "      <th>4</th>\n",
              "      <td>4</td>\n",
              "      <td>থান্ডার আমাকে 830 এ জেগে উঠলে এটি ভালবাসুন</td>\n",
              "      <td>1.0</td>\n",
              "      <td>থান্ডার আমাকে     এ জেগে উঠলে এটি ভালবাসুন</td>\n",
              "    </tr>\n",
              "  </tbody>\n",
              "</table>\n",
              "</div>\n",
              "      <button class=\"colab-df-convert\" onclick=\"convertToInteractive('df-fe1ea671-c8ca-48c5-a7b3-22c4beca6db4')\"\n",
              "              title=\"Convert this dataframe to an interactive table.\"\n",
              "              style=\"display:none;\">\n",
              "        \n",
              "  <svg xmlns=\"http://www.w3.org/2000/svg\" height=\"24px\"viewBox=\"0 0 24 24\"\n",
              "       width=\"24px\">\n",
              "    <path d=\"M0 0h24v24H0V0z\" fill=\"none\"/>\n",
              "    <path d=\"M18.56 5.44l.94 2.06.94-2.06 2.06-.94-2.06-.94-.94-2.06-.94 2.06-2.06.94zm-11 1L8.5 8.5l.94-2.06 2.06-.94-2.06-.94L8.5 2.5l-.94 2.06-2.06.94zm10 10l.94 2.06.94-2.06 2.06-.94-2.06-.94-.94-2.06-.94 2.06-2.06.94z\"/><path d=\"M17.41 7.96l-1.37-1.37c-.4-.4-.92-.59-1.43-.59-.52 0-1.04.2-1.43.59L10.3 9.45l-7.72 7.72c-.78.78-.78 2.05 0 2.83L4 21.41c.39.39.9.59 1.41.59.51 0 1.02-.2 1.41-.59l7.78-7.78 2.81-2.81c.8-.78.8-2.07 0-2.86zM5.41 20L4 18.59l7.72-7.72 1.47 1.35L5.41 20z\"/>\n",
              "  </svg>\n",
              "      </button>\n",
              "      \n",
              "  <style>\n",
              "    .colab-df-container {\n",
              "      display:flex;\n",
              "      flex-wrap:wrap;\n",
              "      gap: 12px;\n",
              "    }\n",
              "\n",
              "    .colab-df-convert {\n",
              "      background-color: #E8F0FE;\n",
              "      border: none;\n",
              "      border-radius: 50%;\n",
              "      cursor: pointer;\n",
              "      display: none;\n",
              "      fill: #1967D2;\n",
              "      height: 32px;\n",
              "      padding: 0 0 0 0;\n",
              "      width: 32px;\n",
              "    }\n",
              "\n",
              "    .colab-df-convert:hover {\n",
              "      background-color: #E2EBFA;\n",
              "      box-shadow: 0px 1px 2px rgba(60, 64, 67, 0.3), 0px 1px 3px 1px rgba(60, 64, 67, 0.15);\n",
              "      fill: #174EA6;\n",
              "    }\n",
              "\n",
              "    [theme=dark] .colab-df-convert {\n",
              "      background-color: #3B4455;\n",
              "      fill: #D2E3FC;\n",
              "    }\n",
              "\n",
              "    [theme=dark] .colab-df-convert:hover {\n",
              "      background-color: #434B5C;\n",
              "      box-shadow: 0px 1px 3px 1px rgba(0, 0, 0, 0.15);\n",
              "      filter: drop-shadow(0px 1px 2px rgba(0, 0, 0, 0.3));\n",
              "      fill: #FFFFFF;\n",
              "    }\n",
              "  </style>\n",
              "\n",
              "      <script>\n",
              "        const buttonEl =\n",
              "          document.querySelector('#df-fe1ea671-c8ca-48c5-a7b3-22c4beca6db4 button.colab-df-convert');\n",
              "        buttonEl.style.display =\n",
              "          google.colab.kernel.accessAllowed ? 'block' : 'none';\n",
              "\n",
              "        async function convertToInteractive(key) {\n",
              "          const element = document.querySelector('#df-fe1ea671-c8ca-48c5-a7b3-22c4beca6db4');\n",
              "          const dataTable =\n",
              "            await google.colab.kernel.invokeFunction('convertToInteractive',\n",
              "                                                     [key], {});\n",
              "          if (!dataTable) return;\n",
              "\n",
              "          const docLinkHtml = 'Like what you see? Visit the ' +\n",
              "            '<a target=\"_blank\" href=https://colab.research.google.com/notebooks/data_table.ipynb>data table notebook</a>'\n",
              "            + ' to learn more about interactive tables.';\n",
              "          element.innerHTML = '';\n",
              "          dataTable['output_type'] = 'display_data';\n",
              "          await google.colab.output.renderOutput(dataTable, element);\n",
              "          const docLink = document.createElement('div');\n",
              "          docLink.innerHTML = docLinkHtml;\n",
              "          element.appendChild(docLink);\n",
              "        }\n",
              "      </script>\n",
              "    </div>\n",
              "  </div>\n",
              "  "
            ]
          },
          "metadata": {},
          "execution_count": 31
        }
      ],
      "source": [
        "df.head()"
      ]
    },
    {
      "cell_type": "code",
      "execution_count": null,
      "metadata": {
        "colab": {
          "base_uri": "https://localhost:8080/"
        },
        "id": "3xrh1nxKry6M",
        "outputId": "96d52bd1-4cec-4c66-82fb-58e1782a49bd"
      },
      "outputs": [
        {
          "output_type": "execute_result",
          "data": {
            "text/plain": [
              "180"
            ]
          },
          "metadata": {},
          "execution_count": 32
        }
      ],
      "source": [
        "df['Comments'].apply(lambda x:len(str(x).split())).max()"
      ]
    },
    {
      "cell_type": "code",
      "execution_count": null,
      "metadata": {
        "colab": {
          "base_uri": "https://localhost:8080/"
        },
        "id": "zdlIZFUasEmk",
        "outputId": "cd8ea2d0-82ca-4ef4-e542-863d554974ae"
      },
      "outputs": [
        {
          "output_type": "stream",
          "name": "stdout",
          "text": [
            "Shape of label tensor: (5112, 2)\n"
          ]
        }
      ],
      "source": [
        "Y = pd.get_dummies(df['Label']).values\n",
        "print('Shape of label tensor:', Y.shape)\n",
        "X = df['cleanText']"
      ]
    },
    {
      "cell_type": "code",
      "execution_count": null,
      "metadata": {
        "id": "dwrXPvNesOtr"
      },
      "outputs": [],
      "source": [
        "X_train, X_test, Y_train, Y_test = train_test_split(X, Y, train_size=.8, random_state=42, shuffle = True)\n"
      ]
    },
    {
      "cell_type": "code",
      "execution_count": null,
      "metadata": {
        "id": "1Gck2Nm-sRmL"
      },
      "outputs": [],
      "source": [
        "maxlen = 300\n",
        "tokenizer = Tokenizer()\n",
        "tokenizer.fit_on_texts(X)\n",
        "\n",
        "X_train = tokenizer.texts_to_sequences(X_train)\n",
        "X_test = tokenizer.texts_to_sequences(X_test)\n",
        "\n",
        "vocab_size = len(tokenizer.word_index) + 1  \n",
        "\n",
        "X_train = pad_sequences(X_train, padding='post', maxlen=maxlen)\n",
        "\n",
        "X_test = pad_sequences(X_test, padding='post', maxlen=maxlen)"
      ]
    },
    {
      "cell_type": "code",
      "execution_count": null,
      "metadata": {
        "id": "KzXxu_RJsXeN"
      },
      "outputs": [],
      "source": [
        "def create_embedding_matrix(filepath, word_idx, embedding_dim):\n",
        "    vocab_size = len(word_idx) + 1  \n",
        "    emb = np.zeros((vocab_size, embedding_dim))\n",
        "    with open(filepath, 'r', encoding=\"utf8\") as f:\n",
        "        for i in f:\n",
        "            x = i.split(' ')\n",
        "            w, v = x[0], x[1:]\n",
        "            if w in word_idx:\n",
        "                emb[word_idx[w]] = np.asarray(v)[:embedding_dim]\n",
        "    return emb"
      ]
    },
    {
      "cell_type": "code",
      "execution_count": null,
      "metadata": {
        "id": "HYmabeErscDd"
      },
      "outputs": [],
      "source": [
        "embedding_dim = 300\n",
        "# embedding_matrix = create_embedding_matrix('/content/drive/MyDrive/Bracu/Spring2022/CSE440/Project/Dataset/glove.840B.300d.txt', tokenizer.word_index, embedding_dim)\n",
        "embedding_matrix = create_embedding_matrix('/content/drive/MyDrive/Bracu/Fall 2022/CSE 431/bn_glove.39M.300d.txt', tokenizer.word_index, embedding_dim)"
      ]
    },
    {
      "cell_type": "code",
      "source": [
        "from keras.layers.convolutional import Conv1D\n",
        "from keras.layers.convolutional import MaxPooling1D\n",
        "from keras.layers import GlobalMaxPool1D, Input\n",
        "from keras.models import Model"
      ],
      "metadata": {
        "id": "Xc8a3Z0owYv_"
      },
      "execution_count": null,
      "outputs": []
    },
    {
      "cell_type": "code",
      "source": [
        "\n",
        "\n",
        "from keras.layers import concatenate, Flatten\n",
        "input = Input(shape=(300,))\n",
        "cnn_input = layers.Embedding(vocab_size, embedding_dim, \n",
        "                          weights=[embedding_matrix], \n",
        "                          input_length=maxlen, \n",
        "                          trainable=True)(input)\n",
        "cnn1 = Conv1D(128,8,activation = 'relu' )(cnn_input)\n",
        "cnn2 = MaxPooling1D(2)(cnn1)\n",
        "cnn3 = Dropout(0.3)(cnn2)\n",
        "cnn4 = Conv1D(64,8,activation = 'relu' )(cnn3)\n",
        "cnn5 = MaxPooling1D(2)(cnn4)\n",
        "cnn6 = Dropout(0.3)(cnn5)\n",
        "cnn7 = Dense(64, activation = 'relu')(cnn6)\n",
        "cnn8 = Dropout(0.3)(cnn7)\n",
        "cnn9 = Dense(32, activation = \"relu\")(cnn8)\n",
        "cnn10 = Flatten()(cnn9)\n",
        "\n",
        "gru_input = layers.Embedding(vocab_size, embedding_dim, \n",
        "                          weights=[embedding_matrix], \n",
        "                          input_length=maxlen, \n",
        "                          trainable=True)(input)\n",
        "gru1 = Bidirectional(GRU(300,activation='tanh', dropout=0.2, recurrent_dropout=0.2)) (gru_input)\n",
        "gru2 = Dense(300,activation = 'relu')(gru1)\n",
        "dropout = Dropout(0.2)(gru2)\n",
        "gru3 = Dense(32,activation = 'relu')(dropout)\n",
        "\n",
        "merge = concatenate([cnn10,gru3])\n",
        "output_layer = Dense(2, activation='softmax') (merge)\n",
        "\n",
        "model_merged = Model(inputs =[input], outputs = [output_layer], name = \"CNN_GRU_MODEL\")\n",
        "model_merged.compile(loss='binary_crossentropy', optimizer='adam', metrics=[tf.keras.metrics.BinaryAccuracy()])\n",
        "model_merged.summary()\n"
      ],
      "metadata": {
        "id": "-SqgkxqjqDEq",
        "colab": {
          "base_uri": "https://localhost:8080/"
        },
        "outputId": "10269706-323c-4a33-9af7-b06f9cb1a46a"
      },
      "execution_count": null,
      "outputs": [
        {
          "output_type": "stream",
          "name": "stderr",
          "text": [
            "WARNING:tensorflow:Layer gru_2 will not use cuDNN kernels since it doesn't meet the criteria. It will use a generic GPU kernel as fallback when running on GPU.\n",
            "WARNING:tensorflow:Layer gru_2 will not use cuDNN kernels since it doesn't meet the criteria. It will use a generic GPU kernel as fallback when running on GPU.\n",
            "WARNING:tensorflow:Layer gru_2 will not use cuDNN kernels since it doesn't meet the criteria. It will use a generic GPU kernel as fallback when running on GPU.\n"
          ]
        },
        {
          "output_type": "stream",
          "name": "stdout",
          "text": [
            "Model: \"CNN_GRU_MODEL\"\n",
            "__________________________________________________________________________________________________\n",
            " Layer (type)                   Output Shape         Param #     Connected to                     \n",
            "==================================================================================================\n",
            " input_3 (InputLayer)           [(None, 300)]        0           []                               \n",
            "                                                                                                  \n",
            " embedding_4 (Embedding)        (None, 300, 300)     3486600     ['input_3[0][0]']                \n",
            "                                                                                                  \n",
            " conv1d_3 (Conv1D)              (None, 293, 128)     307328      ['embedding_4[0][0]']            \n",
            "                                                                                                  \n",
            " max_pooling1d_3 (MaxPooling1D)  (None, 146, 128)    0           ['conv1d_3[0][0]']               \n",
            "                                                                                                  \n",
            " dropout_7 (Dropout)            (None, 146, 128)     0           ['max_pooling1d_3[0][0]']        \n",
            "                                                                                                  \n",
            " conv1d_4 (Conv1D)              (None, 139, 64)      65600       ['dropout_7[0][0]']              \n",
            "                                                                                                  \n",
            " max_pooling1d_4 (MaxPooling1D)  (None, 69, 64)      0           ['conv1d_4[0][0]']               \n",
            "                                                                                                  \n",
            " dropout_8 (Dropout)            (None, 69, 64)       0           ['max_pooling1d_4[0][0]']        \n",
            "                                                                                                  \n",
            " embedding_5 (Embedding)        (None, 300, 300)     3486600     ['input_3[0][0]']                \n",
            "                                                                                                  \n",
            " dense_11 (Dense)               (None, 69, 64)       4160        ['dropout_8[0][0]']              \n",
            "                                                                                                  \n",
            " bidirectional_2 (Bidirectional  (None, 600)         1083600     ['embedding_5[0][0]']            \n",
            " )                                                                                                \n",
            "                                                                                                  \n",
            " dropout_9 (Dropout)            (None, 69, 64)       0           ['dense_11[0][0]']               \n",
            "                                                                                                  \n",
            " dense_13 (Dense)               (None, 300)          180300      ['bidirectional_2[0][0]']        \n",
            "                                                                                                  \n",
            " dense_12 (Dense)               (None, 69, 32)       2080        ['dropout_9[0][0]']              \n",
            "                                                                                                  \n",
            " dropout_10 (Dropout)           (None, 300)          0           ['dense_13[0][0]']               \n",
            "                                                                                                  \n",
            " flatten_2 (Flatten)            (None, 2208)         0           ['dense_12[0][0]']               \n",
            "                                                                                                  \n",
            " dense_14 (Dense)               (None, 32)           9632        ['dropout_10[0][0]']             \n",
            "                                                                                                  \n",
            " concatenate_2 (Concatenate)    (None, 2240)         0           ['flatten_2[0][0]',              \n",
            "                                                                  'dense_14[0][0]']               \n",
            "                                                                                                  \n",
            " dense_15 (Dense)               (None, 2)            4482        ['concatenate_2[0][0]']          \n",
            "                                                                                                  \n",
            "==================================================================================================\n",
            "Total params: 8,630,382\n",
            "Trainable params: 8,630,382\n",
            "Non-trainable params: 0\n",
            "__________________________________________________________________________________________________\n"
          ]
        }
      ]
    },
    {
      "cell_type": "code",
      "source": [
        "epochs = 100\n",
        "batch_size = 512 #*tpu_strategy.num_replicas_in_sync\n",
        "for i in range(epochs):\n",
        "  history = model_merged.fit(X_train, Y_train, epochs=1, batch_size=batch_size,validation_split=0.2,callbacks=[EarlyStopping(monitor='val_loss', patience=2, min_delta=0.0001)])\n",
        "  accr = model_merged.evaluate(X_test,Y_test) \n",
        "  print('Test set\\n  Loss: {:0.3f}\\n  Accuracy: {:0.3f}'.format(accr[0],accr[1]))"
      ],
      "metadata": {
        "id": "ibKWZpdy28Ic",
        "colab": {
          "base_uri": "https://localhost:8080/",
          "height": 1000
        },
        "outputId": "a06cdd2c-1917-4174-87c9-f3d03949b667"
      },
      "execution_count": null,
      "outputs": [
        {
          "output_type": "stream",
          "name": "stdout",
          "text": [
            "Train on 3271 samples, validate on 818 samples\n",
            "3271/3271 [==============================] - ETA: 0s - loss: 0.6681 - binary_accuracy: 0.6149"
          ]
        },
        {
          "output_type": "stream",
          "name": "stderr",
          "text": [
            "/usr/local/lib/python3.8/dist-packages/keras/engine/training_v1.py:2045: UserWarning: `Model.state_updates` will be removed in a future version. This property should not be used in TensorFlow 2.0, as `updates` are applied automatically.\n",
            "  updates = self.state_updates\n"
          ]
        },
        {
          "output_type": "stream",
          "name": "stdout",
          "text": [
            "\b\b\b\b\b\b\b\b\b\b\b\b\b\b\b\b\b\b\b\b\b\b\b\b\b\b\b\b\b\b\b\b\b\b\b\b\b\b\b\b\b\b\b\b\b\b\b\b\b\b\b\b\b\b\b\b\b\b\b\b\b\b\b\b\b\b\b\b\b\b\b\b\b\b\b\b\b\b\b\b\b\b\b\b\b\b\b\b\b\b\b\b\b\r3271/3271 [==============================] - 17s 5ms/sample - loss: 0.6681 - binary_accuracy: 0.6149 - val_loss: 0.5918 - val_binary_accuracy: 0.6858\n",
            "Test set\n",
            "  Loss: 0.605\n",
            "  Accuracy: 0.660\n",
            "Train on 3271 samples, validate on 818 samples\n",
            "3271/3271 [==============================] - 14s 4ms/sample - loss: 0.5279 - binary_accuracy: 0.7438 - val_loss: 0.3694 - val_binary_accuracy: 0.8350\n",
            "Test set\n",
            "  Loss: 0.377\n",
            "  Accuracy: 0.832\n",
            "Train on 3271 samples, validate on 818 samples\n",
            "3271/3271 [==============================] - 15s 5ms/sample - loss: 0.3141 - binary_accuracy: 0.8737 - val_loss: 0.2314 - val_binary_accuracy: 0.9120\n",
            "Test set\n",
            "  Loss: 0.236\n",
            "  Accuracy: 0.922\n",
            "Train on 3271 samples, validate on 818 samples\n",
            "3271/3271 [==============================] - 14s 4ms/sample - loss: 0.1966 - binary_accuracy: 0.9288 - val_loss: 0.1663 - val_binary_accuracy: 0.9340\n",
            "Test set\n",
            "  Loss: 0.179\n",
            "  Accuracy: 0.937\n",
            "Train on 3271 samples, validate on 818 samples\n",
            "3271/3271 [==============================] - 18s 5ms/sample - loss: 0.1411 - binary_accuracy: 0.9489 - val_loss: 0.1363 - val_binary_accuracy: 0.9413\n",
            "Test set\n",
            "  Loss: 0.157\n",
            "  Accuracy: 0.946\n",
            "Train on 3271 samples, validate on 818 samples\n",
            "3271/3271 [==============================] - 14s 4ms/sample - loss: 0.1030 - binary_accuracy: 0.9627 - val_loss: 0.1225 - val_binary_accuracy: 0.9499\n",
            "Test set\n",
            "  Loss: 0.142\n",
            "  Accuracy: 0.955\n",
            "Train on 3271 samples, validate on 818 samples\n",
            "3271/3271 [==============================] - 14s 4ms/sample - loss: 0.0804 - binary_accuracy: 0.9710 - val_loss: 0.1161 - val_binary_accuracy: 0.9572\n",
            "Test set\n",
            "  Loss: 0.140\n",
            "  Accuracy: 0.958\n",
            "Train on 3271 samples, validate on 818 samples\n",
            "3271/3271 [==============================] - 14s 4ms/sample - loss: 0.0517 - binary_accuracy: 0.9804 - val_loss: 0.1143 - val_binary_accuracy: 0.9560\n",
            "Test set\n",
            "  Loss: 0.141\n",
            "  Accuracy: 0.955\n",
            "Train on 3271 samples, validate on 818 samples\n",
            "3271/3271 [==============================] - 14s 4ms/sample - loss: 0.0331 - binary_accuracy: 0.9872 - val_loss: 0.1140 - val_binary_accuracy: 0.9535\n",
            "Test set\n",
            "  Loss: 0.143\n",
            "  Accuracy: 0.956\n",
            "Train on 3271 samples, validate on 818 samples\n",
            "3271/3271 [==============================] - 14s 4ms/sample - loss: 0.0208 - binary_accuracy: 0.9945 - val_loss: 0.1430 - val_binary_accuracy: 0.9535\n",
            "Test set\n",
            "  Loss: 0.159\n",
            "  Accuracy: 0.955\n",
            "Train on 3271 samples, validate on 818 samples\n",
            "3271/3271 [==============================] - 14s 4ms/sample - loss: 0.0315 - binary_accuracy: 0.9869 - val_loss: 0.1213 - val_binary_accuracy: 0.9584\n",
            "Test set\n",
            "  Loss: 0.157\n",
            "  Accuracy: 0.957\n",
            "Train on 3271 samples, validate on 818 samples\n",
            "3271/3271 [==============================] - 15s 5ms/sample - loss: 0.0161 - binary_accuracy: 0.9927 - val_loss: 0.1844 - val_binary_accuracy: 0.9474\n",
            "Test set\n",
            "  Loss: 0.177\n",
            "  Accuracy: 0.954\n",
            "Train on 3271 samples, validate on 818 samples\n",
            "3271/3271 [==============================] - 14s 4ms/sample - loss: 0.0121 - binary_accuracy: 0.9957 - val_loss: 0.1212 - val_binary_accuracy: 0.9548\n",
            "Test set\n",
            "  Loss: 0.162\n",
            "  Accuracy: 0.957\n",
            "Train on 3271 samples, validate on 818 samples\n",
            "3271/3271 [==============================] - 14s 4ms/sample - loss: 0.0074 - binary_accuracy: 0.9976 - val_loss: 0.1280 - val_binary_accuracy: 0.9560\n",
            "Test set\n",
            "  Loss: 0.168\n",
            "  Accuracy: 0.958\n",
            "Train on 3271 samples, validate on 818 samples\n"
          ]
        },
        {
          "output_type": "error",
          "ename": "KeyboardInterrupt",
          "evalue": "ignored",
          "traceback": [
            "\u001b[0;31m---------------------------------------------------------------------------\u001b[0m",
            "\u001b[0;31mKeyboardInterrupt\u001b[0m                         Traceback (most recent call last)",
            "\u001b[0;32m<ipython-input-49-9cb85d8298de>\u001b[0m in \u001b[0;36m<module>\u001b[0;34m\u001b[0m\n\u001b[1;32m      2\u001b[0m \u001b[0mbatch_size\u001b[0m \u001b[0;34m=\u001b[0m \u001b[0;36m512\u001b[0m \u001b[0;31m#*tpu_strategy.num_replicas_in_sync\u001b[0m\u001b[0;34m\u001b[0m\u001b[0;34m\u001b[0m\u001b[0m\n\u001b[1;32m      3\u001b[0m \u001b[0;32mfor\u001b[0m \u001b[0mi\u001b[0m \u001b[0;32min\u001b[0m \u001b[0mrange\u001b[0m\u001b[0;34m(\u001b[0m\u001b[0mepochs\u001b[0m\u001b[0;34m)\u001b[0m\u001b[0;34m:\u001b[0m\u001b[0;34m\u001b[0m\u001b[0;34m\u001b[0m\u001b[0m\n\u001b[0;32m----> 4\u001b[0;31m   \u001b[0mhistory\u001b[0m \u001b[0;34m=\u001b[0m \u001b[0mmodel_merged\u001b[0m\u001b[0;34m.\u001b[0m\u001b[0mfit\u001b[0m\u001b[0;34m(\u001b[0m\u001b[0mX_train\u001b[0m\u001b[0;34m,\u001b[0m \u001b[0mY_train\u001b[0m\u001b[0;34m,\u001b[0m \u001b[0mepochs\u001b[0m\u001b[0;34m=\u001b[0m\u001b[0;36m1\u001b[0m\u001b[0;34m,\u001b[0m \u001b[0mbatch_size\u001b[0m\u001b[0;34m=\u001b[0m\u001b[0mbatch_size\u001b[0m\u001b[0;34m,\u001b[0m\u001b[0mvalidation_split\u001b[0m\u001b[0;34m=\u001b[0m\u001b[0;36m0.2\u001b[0m\u001b[0;34m,\u001b[0m\u001b[0mcallbacks\u001b[0m\u001b[0;34m=\u001b[0m\u001b[0;34m[\u001b[0m\u001b[0mEarlyStopping\u001b[0m\u001b[0;34m(\u001b[0m\u001b[0mmonitor\u001b[0m\u001b[0;34m=\u001b[0m\u001b[0;34m'val_loss'\u001b[0m\u001b[0;34m,\u001b[0m \u001b[0mpatience\u001b[0m\u001b[0;34m=\u001b[0m\u001b[0;36m2\u001b[0m\u001b[0;34m,\u001b[0m \u001b[0mmin_delta\u001b[0m\u001b[0;34m=\u001b[0m\u001b[0;36m0.0001\u001b[0m\u001b[0;34m)\u001b[0m\u001b[0;34m]\u001b[0m\u001b[0;34m)\u001b[0m\u001b[0;34m\u001b[0m\u001b[0;34m\u001b[0m\u001b[0m\n\u001b[0m\u001b[1;32m      5\u001b[0m   \u001b[0maccr\u001b[0m \u001b[0;34m=\u001b[0m \u001b[0mmodel_merged\u001b[0m\u001b[0;34m.\u001b[0m\u001b[0mevaluate\u001b[0m\u001b[0;34m(\u001b[0m\u001b[0mX_test\u001b[0m\u001b[0;34m,\u001b[0m\u001b[0mY_test\u001b[0m\u001b[0;34m)\u001b[0m\u001b[0;34m\u001b[0m\u001b[0;34m\u001b[0m\u001b[0m\n\u001b[1;32m      6\u001b[0m   \u001b[0mprint\u001b[0m\u001b[0;34m(\u001b[0m\u001b[0;34m'Test set\\n  Loss: {:0.3f}\\n  Accuracy: {:0.3f}'\u001b[0m\u001b[0;34m.\u001b[0m\u001b[0mformat\u001b[0m\u001b[0;34m(\u001b[0m\u001b[0maccr\u001b[0m\u001b[0;34m[\u001b[0m\u001b[0;36m0\u001b[0m\u001b[0;34m]\u001b[0m\u001b[0;34m,\u001b[0m\u001b[0maccr\u001b[0m\u001b[0;34m[\u001b[0m\u001b[0;36m1\u001b[0m\u001b[0;34m]\u001b[0m\u001b[0;34m)\u001b[0m\u001b[0;34m)\u001b[0m\u001b[0;34m\u001b[0m\u001b[0;34m\u001b[0m\u001b[0m\n",
            "\u001b[0;32m/usr/local/lib/python3.8/dist-packages/keras/engine/training_v1.py\u001b[0m in \u001b[0;36mfit\u001b[0;34m(self, x, y, batch_size, epochs, verbose, callbacks, validation_split, validation_data, shuffle, class_weight, sample_weight, initial_epoch, steps_per_epoch, validation_steps, validation_freq, max_queue_size, workers, use_multiprocessing, **kwargs)\u001b[0m\n\u001b[1;32m    774\u001b[0m \u001b[0;34m\u001b[0m\u001b[0m\n\u001b[1;32m    775\u001b[0m     \u001b[0mfunc\u001b[0m \u001b[0;34m=\u001b[0m \u001b[0mself\u001b[0m\u001b[0;34m.\u001b[0m\u001b[0m_select_training_loop\u001b[0m\u001b[0;34m(\u001b[0m\u001b[0mx\u001b[0m\u001b[0;34m)\u001b[0m\u001b[0;34m\u001b[0m\u001b[0;34m\u001b[0m\u001b[0m\n\u001b[0;32m--> 776\u001b[0;31m     return func.fit(\n\u001b[0m\u001b[1;32m    777\u001b[0m         \u001b[0mself\u001b[0m\u001b[0;34m,\u001b[0m\u001b[0;34m\u001b[0m\u001b[0;34m\u001b[0m\u001b[0m\n\u001b[1;32m    778\u001b[0m         \u001b[0mx\u001b[0m\u001b[0;34m=\u001b[0m\u001b[0mx\u001b[0m\u001b[0;34m,\u001b[0m\u001b[0;34m\u001b[0m\u001b[0;34m\u001b[0m\u001b[0m\n",
            "\u001b[0;32m/usr/local/lib/python3.8/dist-packages/keras/engine/training_arrays_v1.py\u001b[0m in \u001b[0;36mfit\u001b[0;34m(self, model, x, y, batch_size, epochs, verbose, callbacks, validation_split, validation_data, shuffle, class_weight, sample_weight, initial_epoch, steps_per_epoch, validation_steps, validation_freq, **kwargs)\u001b[0m\n\u001b[1;32m    639\u001b[0m       \u001b[0mval_x\u001b[0m\u001b[0;34m,\u001b[0m \u001b[0mval_y\u001b[0m\u001b[0;34m,\u001b[0m \u001b[0mval_sample_weights\u001b[0m \u001b[0;34m=\u001b[0m \u001b[0;32mNone\u001b[0m\u001b[0;34m,\u001b[0m \u001b[0;32mNone\u001b[0m\u001b[0;34m,\u001b[0m \u001b[0;32mNone\u001b[0m\u001b[0;34m\u001b[0m\u001b[0;34m\u001b[0m\u001b[0m\n\u001b[1;32m    640\u001b[0m \u001b[0;34m\u001b[0m\u001b[0m\n\u001b[0;32m--> 641\u001b[0;31m     return fit_loop(\n\u001b[0m\u001b[1;32m    642\u001b[0m         \u001b[0mmodel\u001b[0m\u001b[0;34m,\u001b[0m\u001b[0;34m\u001b[0m\u001b[0;34m\u001b[0m\u001b[0m\n\u001b[1;32m    643\u001b[0m         \u001b[0minputs\u001b[0m\u001b[0;34m=\u001b[0m\u001b[0mx\u001b[0m\u001b[0;34m,\u001b[0m\u001b[0;34m\u001b[0m\u001b[0;34m\u001b[0m\u001b[0m\n",
            "\u001b[0;32m/usr/local/lib/python3.8/dist-packages/keras/engine/training_arrays_v1.py\u001b[0m in \u001b[0;36mmodel_iteration\u001b[0;34m(model, inputs, targets, sample_weights, batch_size, epochs, verbose, callbacks, val_inputs, val_targets, val_sample_weights, shuffle, initial_epoch, steps_per_epoch, validation_steps, validation_freq, mode, validation_in_fit, prepared_feed_values_from_dataset, steps_name, **kwargs)\u001b[0m\n\u001b[1;32m    375\u001b[0m \u001b[0;34m\u001b[0m\u001b[0m\n\u001b[1;32m    376\u001b[0m         \u001b[0;31m# Get outputs.\u001b[0m\u001b[0;34m\u001b[0m\u001b[0;34m\u001b[0m\u001b[0;34m\u001b[0m\u001b[0m\n\u001b[0;32m--> 377\u001b[0;31m         \u001b[0mbatch_outs\u001b[0m \u001b[0;34m=\u001b[0m \u001b[0mf\u001b[0m\u001b[0;34m(\u001b[0m\u001b[0mins_batch\u001b[0m\u001b[0;34m)\u001b[0m\u001b[0;34m\u001b[0m\u001b[0;34m\u001b[0m\u001b[0m\n\u001b[0m\u001b[1;32m    378\u001b[0m         \u001b[0;32mif\u001b[0m \u001b[0;32mnot\u001b[0m \u001b[0misinstance\u001b[0m\u001b[0;34m(\u001b[0m\u001b[0mbatch_outs\u001b[0m\u001b[0;34m,\u001b[0m \u001b[0mlist\u001b[0m\u001b[0;34m)\u001b[0m\u001b[0;34m:\u001b[0m\u001b[0;34m\u001b[0m\u001b[0;34m\u001b[0m\u001b[0m\n\u001b[1;32m    379\u001b[0m           \u001b[0mbatch_outs\u001b[0m \u001b[0;34m=\u001b[0m \u001b[0;34m[\u001b[0m\u001b[0mbatch_outs\u001b[0m\u001b[0;34m]\u001b[0m\u001b[0;34m\u001b[0m\u001b[0;34m\u001b[0m\u001b[0m\n",
            "\u001b[0;32m/usr/local/lib/python3.8/dist-packages/keras/backend.py\u001b[0m in \u001b[0;36m__call__\u001b[0;34m(self, inputs)\u001b[0m\n\u001b[1;32m   4282\u001b[0m       \u001b[0mself\u001b[0m\u001b[0;34m.\u001b[0m\u001b[0m_make_callable\u001b[0m\u001b[0;34m(\u001b[0m\u001b[0mfeed_arrays\u001b[0m\u001b[0;34m,\u001b[0m \u001b[0mfeed_symbols\u001b[0m\u001b[0;34m,\u001b[0m \u001b[0msymbol_vals\u001b[0m\u001b[0;34m,\u001b[0m \u001b[0msession\u001b[0m\u001b[0;34m)\u001b[0m\u001b[0;34m\u001b[0m\u001b[0;34m\u001b[0m\u001b[0m\n\u001b[1;32m   4283\u001b[0m \u001b[0;34m\u001b[0m\u001b[0m\n\u001b[0;32m-> 4284\u001b[0;31m     fetched = self._callable_fn(*array_vals,\n\u001b[0m\u001b[1;32m   4285\u001b[0m                                 run_metadata=self.run_metadata)\n\u001b[1;32m   4286\u001b[0m     \u001b[0mself\u001b[0m\u001b[0;34m.\u001b[0m\u001b[0m_call_fetch_callbacks\u001b[0m\u001b[0;34m(\u001b[0m\u001b[0mfetched\u001b[0m\u001b[0;34m[\u001b[0m\u001b[0;34m-\u001b[0m\u001b[0mlen\u001b[0m\u001b[0;34m(\u001b[0m\u001b[0mself\u001b[0m\u001b[0;34m.\u001b[0m\u001b[0m_fetches\u001b[0m\u001b[0;34m)\u001b[0m\u001b[0;34m:\u001b[0m\u001b[0;34m]\u001b[0m\u001b[0;34m)\u001b[0m\u001b[0;34m\u001b[0m\u001b[0;34m\u001b[0m\u001b[0m\n",
            "\u001b[0;32m/usr/local/lib/python3.8/dist-packages/tensorflow/python/client/session.py\u001b[0m in \u001b[0;36m__call__\u001b[0;34m(self, *args, **kwargs)\u001b[0m\n\u001b[1;32m   1478\u001b[0m       \u001b[0;32mtry\u001b[0m\u001b[0;34m:\u001b[0m\u001b[0;34m\u001b[0m\u001b[0;34m\u001b[0m\u001b[0m\n\u001b[1;32m   1479\u001b[0m         \u001b[0mrun_metadata_ptr\u001b[0m \u001b[0;34m=\u001b[0m \u001b[0mtf_session\u001b[0m\u001b[0;34m.\u001b[0m\u001b[0mTF_NewBuffer\u001b[0m\u001b[0;34m(\u001b[0m\u001b[0;34m)\u001b[0m \u001b[0;32mif\u001b[0m \u001b[0mrun_metadata\u001b[0m \u001b[0;32melse\u001b[0m \u001b[0;32mNone\u001b[0m\u001b[0;34m\u001b[0m\u001b[0;34m\u001b[0m\u001b[0m\n\u001b[0;32m-> 1480\u001b[0;31m         ret = tf_session.TF_SessionRunCallable(self._session._session,\n\u001b[0m\u001b[1;32m   1481\u001b[0m                                                \u001b[0mself\u001b[0m\u001b[0;34m.\u001b[0m\u001b[0m_handle\u001b[0m\u001b[0;34m,\u001b[0m \u001b[0margs\u001b[0m\u001b[0;34m,\u001b[0m\u001b[0;34m\u001b[0m\u001b[0;34m\u001b[0m\u001b[0m\n\u001b[1;32m   1482\u001b[0m                                                run_metadata_ptr)\n",
            "\u001b[0;31mKeyboardInterrupt\u001b[0m: "
          ]
        }
      ]
    },
    {
      "cell_type": "code",
      "source": [
        "accr = model_merged.evaluate(X_test,Y_test) \n",
        "print('Test set\\n  Loss: {:0.3f}\\n  Accuracy: {:0.3f}'.format(accr[0],accr[1]))"
      ],
      "metadata": {
        "colab": {
          "base_uri": "https://localhost:8080/"
        },
        "id": "Tiwp6e6Djy0C",
        "outputId": "887d4b39-eed3-4c15-d81e-543f39f9c90b"
      },
      "execution_count": null,
      "outputs": [
        {
          "output_type": "stream",
          "name": "stdout",
          "text": [
            "Test set\n",
            "  Loss: 0.170\n",
            "  Accuracy: 0.960\n"
          ]
        }
      ]
    },
    {
      "cell_type": "code",
      "execution_count": null,
      "metadata": {
        "colab": {
          "base_uri": "https://localhost:8080/"
        },
        "id": "tKHxI5kJtyB1",
        "outputId": "19740dd4-fc75-4e17-e2b8-af15678d8817"
      },
      "outputs": [
        {
          "output_type": "stream",
          "name": "stderr",
          "text": [
            "/usr/local/lib/python3.8/dist-packages/keras/engine/training_v1.py:2067: UserWarning: `Model.state_updates` will be removed in a future version. This property should not be used in TensorFlow 2.0, as `updates` are applied automatically.\n",
            "  updates=self.state_updates,\n"
          ]
        }
      ],
      "source": [
        "output = model_merged.predict(X_test)\n"
      ]
    },
    {
      "cell_type": "code",
      "execution_count": null,
      "metadata": {
        "id": "kq1rKnfuvYC2"
      },
      "outputs": [],
      "source": [
        "def flat(ndarray):\n",
        "  array = []\n",
        "  for x in ndarray:\n",
        "    if x[0] > x[1]:\n",
        "      array.append(0)\n",
        "    else:\n",
        "      array.append(1)\n",
        "  return np.array(array)\n",
        "  "
      ]
    },
    {
      "cell_type": "code",
      "execution_count": null,
      "metadata": {
        "colab": {
          "base_uri": "https://localhost:8080/"
        },
        "id": "-oeUFKNvt1Rb",
        "outputId": "052c7961-4e70-4bbc-c2c7-fb56e5258990"
      },
      "outputs": [
        {
          "output_type": "stream",
          "name": "stdout",
          "text": [
            "[0 0 1 ... 0 0 0]\n"
          ]
        }
      ],
      "source": [
        "flatOutput = flat(output)\n",
        "print(flatOutput)\n",
        "flatY = flat(Y_test)"
      ]
    },
    {
      "cell_type": "code",
      "execution_count": null,
      "metadata": {
        "colab": {
          "base_uri": "https://localhost:8080/"
        },
        "id": "q8pQgczszyP8",
        "outputId": "31a635c3-f42b-4c73-f78b-d8283c2178f0"
      },
      "outputs": [
        {
          "output_type": "stream",
          "name": "stdout",
          "text": [
            "(1023,) (1023,)\n"
          ]
        }
      ],
      "source": [
        "print(flatOutput.shape, flatY.shape)"
      ]
    },
    {
      "cell_type": "code",
      "execution_count": null,
      "metadata": {
        "colab": {
          "base_uri": "https://localhost:8080/"
        },
        "id": "cnGWqWK7z73z",
        "outputId": "425f9cd6-89ef-43eb-e660-2861cc68cc03"
      },
      "outputs": [
        {
          "output_type": "stream",
          "name": "stdout",
          "text": [
            "              precision    recall  f1-score   support\n",
            "\n",
            "           0       0.97      0.97      0.97       626\n",
            "           1       0.95      0.94      0.95       397\n",
            "\n",
            "    accuracy                           0.96      1023\n",
            "   macro avg       0.96      0.96      0.96      1023\n",
            "weighted avg       0.96      0.96      0.96      1023\n",
            "\n"
          ]
        }
      ],
      "source": [
        "print(classification_report(flatY, flatOutput))"
      ]
    },
    {
      "cell_type": "code",
      "execution_count": null,
      "metadata": {
        "id": "WOj3E1OF0Rpi",
        "colab": {
          "base_uri": "https://localhost:8080/"
        },
        "outputId": "5dc46733-bc3c-48c0-8adb-e8d5c09e75e6"
      },
      "outputs": [
        {
          "output_type": "execute_result",
          "data": {
            "text/plain": [
              "array([1])"
            ]
          },
          "metadata": {},
          "execution_count": 58
        }
      ],
      "source": [
        "text = ['আমার হারানোর আগে আপনার ধৈর্য সন্ধান করুন।'] \n",
        "L = tokenizer.texts_to_sequences(text)\n",
        "vocab_size = len(tokenizer.word_index) + 1   \n",
        "\n",
        "L = pad_sequences(L, padding='post', maxlen=maxlen)\n",
        "\n",
        "O = model_merged.predict(L)\n",
        "\n",
        "flat(O)"
      ]
    },
    {
      "cell_type": "code",
      "source": [
        "df.Comments[45]\n",
        "from tensorflow.python.framework.ops import disable_eager_execution\n",
        "disable_eager_execution()"
      ],
      "metadata": {
        "id": "AQC4_zUNqBkH"
      },
      "execution_count": null,
      "outputs": []
    },
    {
      "cell_type": "code",
      "source": [
        "import keras\n",
        "keras.utils.plot_model(model_merged, \"my_first_model.png\")"
      ],
      "metadata": {
        "colab": {
          "base_uri": "https://localhost:8080/",
          "height": 1000
        },
        "id": "6F6Tlf9xa2OP",
        "outputId": "838829da-49b0-4de4-a8e6-28d34c935066"
      },
      "execution_count": null,
      "outputs": [
        {
          "output_type": "execute_result",
          "data": {
            "image/png": "[encoded data removed]",
            "text/plain": [
              "<IPython.core.display.Image object>"
            ]
          },
          "metadata": {},
          "execution_count": 61
        }
      ]
    },
    {
      "cell_type": "code",
      "source": [],
      "metadata": {
        "id": "5d-9DcJ5kvew"
      },
      "execution_count": null,
      "outputs": []
    }
  ],
  "metadata": {
    "accelerator": "GPU",
    "colab": {
      "provenance": []
    },
    "gpuClass": "standard",
    "kernelspec": {
      "display_name": "Python 3",
      "name": "python3"
    },
    "language_info": {
      "name": "python"
    }
  },
  "nbformat": 4,
  "nbformat_minor": 0
}